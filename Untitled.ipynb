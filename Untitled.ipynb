{
 "cells": [
  {
   "cell_type": "markdown",
   "metadata": {},
   "source": [
    "## LC4RIをGUIで実践するテスト\n",
    "キー操作と証跡を効率化するツールを使ってCLIでなく、GUIでLC4RIを実践してみます。"
   ]
  },
  {
   "cell_type": "markdown",
   "metadata": {},
   "source": [
    "### ツールが動作している確認としてコンフィグを表示させます"
   ]
  },
  {
   "cell_type": "code",
   "execution_count": 5,
   "metadata": {},
   "outputs": [
    {
     "name": "stdout",
     "output_type": "stream",
     "text": [
      ">>>\r",
      ">>> config\r\n",
      "wait:1000\r\n",
      "count:1\r\n",
      "changeWindow:\r\n",
      "targetWindow:70.37.48\r\n",
      "autoCapture mode: true\r\n",
      "captureWait:1000\r\n",
      "captureHang:10\r\n",
      "capturePath:\r\n"
     ]
    }
   ],
   "source": [
    "config"
   ]
  },
  {
   "cell_type": "markdown",
   "metadata": {},
   "source": [
    "動いているのであればRDPクライアントを操作ターゲットにします"
   ]
  },
  {
   "cell_type": "code",
   "execution_count": 2,
   "metadata": {},
   "outputs": [
    {
     "name": "stdout",
     "output_type": "stream",
     "text": [
      ">>>\r",
      "\r",
      ">>> targ\r",
      "\r",
      ">>> target 70.37.48\r\n"
     ]
    }
   ],
   "source": [
    "target 70.37.48"
   ]
  },
  {
   "cell_type": "markdown",
   "metadata": {},
   "source": [
    "ターゲットは一つなのでタブの切り替わりを無効化します"
   ]
  },
  {
   "cell_type": "code",
   "execution_count": 3,
   "metadata": {},
   "outputs": [
    {
     "name": "stdout",
     "output_type": "stream",
     "text": [
      "\r\n",
      ">>>\r",
      ">>> change \"\"\r\n"
     ]
    }
   ],
   "source": [
    "change \"\""
   ]
  },
  {
   "cell_type": "markdown",
   "metadata": {},
   "source": [
    "自動キャプチャを有効にします"
   ]
  },
  {
   "cell_type": "code",
   "execution_count": 4,
   "metadata": {},
   "outputs": [
    {
     "name": "stdout",
     "output_type": "stream",
     "text": [
      ">>>\r",
      "\r",
      ">>> autoCapture\r\n",
      "autoCapture mode: true\r\n"
     ]
    }
   ],
   "source": [
    "autoCapture"
   ]
  },
  {
   "cell_type": "markdown",
   "metadata": {},
   "source": [
    "ターゲットを操作します\n",
    " - notepadを起動します\n",
    "出力された証跡ファイルを開いてみましょう"
   ]
  },
  {
   "cell_type": "code",
   "execution_count": 6,
   "metadata": {},
   "outputs": [
    {
     "name": "stdout",
     "output_type": "stream",
     "text": [
      ">>>\r",
      ">>> test|notepa\r",
      "\r",
      ">>> test|notepad|[\\\\\r",
      "\r",
      ">>> test|notepad|[\\\\n]\r\n",
      "Capture Success: 1_2019-11-08-14-09-47.png (7184)\r\n"
     ]
    }
   ],
   "source": [
    "test|notepad|[\\\\n]"
   ]
  },
  {
   "cell_type": "code",
   "execution_count": null,
   "metadata": {},
   "outputs": [],
   "source": []
  }
 ],
 "metadata": {
  "kernelspec": {
   "display_name": "Echo",
   "language": "text",
   "name": "echo"
  },
  "language_info": {
   "file_extension": ".txt",
   "mimetype": "text/plain",
   "name": "Any text"
  }
 },
 "nbformat": 4,
 "nbformat_minor": 2
}
